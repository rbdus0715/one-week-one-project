{
  "nbformat": 4,
  "nbformat_minor": 0,
  "metadata": {
    "colab": {
      "provenance": [],
      "collapsed_sections": [],
      "authorship_tag": "ABX9TyPQjLD+s4V1T2wr3Zyd/Bru",
      "include_colab_link": true
    },
    "kernelspec": {
      "name": "python3",
      "display_name": "Python 3"
    },
    "language_info": {
      "name": "python"
    },
    "accelerator": "GPU",
    "gpuClass": "standard"
  },
  "cells": [
    {
      "cell_type": "markdown",
      "metadata": {
        "id": "view-in-github",
        "colab_type": "text"
      },
      "source": [
        "<a href=\"https://colab.research.google.com/github/rbdus0715/project/blob/main/aerial_cactus_identification.ipynb\" target=\"_parent\"><img src=\"https://colab.research.google.com/assets/colab-badge.svg\" alt=\"Open In Colab\"/></a>"
      ]
    },
    {
      "cell_type": "markdown",
      "source": [
        "# **항공 사진 내 선인장 식별**\n",
        "- 문제 유형 : 이진분류\n",
        "- 모델 : CNN\n",
        "\n",
        "#### **input -> CNN -> linear-> 2진 -> 교차 엔트로피**"
      ],
      "metadata": {
        "id": "sBi0c7brdTAb"
      }
    },
    {
      "cell_type": "code",
      "execution_count": 1,
      "metadata": {
        "colab": {
          "base_uri": "https://localhost:8080/",
          "height": 206
        },
        "id": "-bE3A7ImcF6a",
        "outputId": "3ca5a67c-2335-4bb4-8927-0ebd162f35cc"
      },
      "outputs": [
        {
          "output_type": "execute_result",
          "data": {
            "text/plain": [
              "                                     id  has_cactus\n",
              "0  0004be2cfeaba1c0361d39e2b000257b.jpg           1\n",
              "1  000c8a36845c0208e833c79c1bffedd1.jpg           1\n",
              "2  000d1e9a533f62e55c289303b072733d.jpg           1\n",
              "3  0011485b40695e9138e92d0b3fb55128.jpg           1\n",
              "4  0014d7a11e90b62848904c1418fc8cf2.jpg           1"
            ],
            "text/html": [
              "\n",
              "  <div id=\"df-a68a6473-09f1-4913-9a52-d1ba86dfd4d7\">\n",
              "    <div class=\"colab-df-container\">\n",
              "      <div>\n",
              "<style scoped>\n",
              "    .dataframe tbody tr th:only-of-type {\n",
              "        vertical-align: middle;\n",
              "    }\n",
              "\n",
              "    .dataframe tbody tr th {\n",
              "        vertical-align: top;\n",
              "    }\n",
              "\n",
              "    .dataframe thead th {\n",
              "        text-align: right;\n",
              "    }\n",
              "</style>\n",
              "<table border=\"1\" class=\"dataframe\">\n",
              "  <thead>\n",
              "    <tr style=\"text-align: right;\">\n",
              "      <th></th>\n",
              "      <th>id</th>\n",
              "      <th>has_cactus</th>\n",
              "    </tr>\n",
              "  </thead>\n",
              "  <tbody>\n",
              "    <tr>\n",
              "      <th>0</th>\n",
              "      <td>0004be2cfeaba1c0361d39e2b000257b.jpg</td>\n",
              "      <td>1</td>\n",
              "    </tr>\n",
              "    <tr>\n",
              "      <th>1</th>\n",
              "      <td>000c8a36845c0208e833c79c1bffedd1.jpg</td>\n",
              "      <td>1</td>\n",
              "    </tr>\n",
              "    <tr>\n",
              "      <th>2</th>\n",
              "      <td>000d1e9a533f62e55c289303b072733d.jpg</td>\n",
              "      <td>1</td>\n",
              "    </tr>\n",
              "    <tr>\n",
              "      <th>3</th>\n",
              "      <td>0011485b40695e9138e92d0b3fb55128.jpg</td>\n",
              "      <td>1</td>\n",
              "    </tr>\n",
              "    <tr>\n",
              "      <th>4</th>\n",
              "      <td>0014d7a11e90b62848904c1418fc8cf2.jpg</td>\n",
              "      <td>1</td>\n",
              "    </tr>\n",
              "  </tbody>\n",
              "</table>\n",
              "</div>\n",
              "      <button class=\"colab-df-convert\" onclick=\"convertToInteractive('df-a68a6473-09f1-4913-9a52-d1ba86dfd4d7')\"\n",
              "              title=\"Convert this dataframe to an interactive table.\"\n",
              "              style=\"display:none;\">\n",
              "        \n",
              "  <svg xmlns=\"http://www.w3.org/2000/svg\" height=\"24px\"viewBox=\"0 0 24 24\"\n",
              "       width=\"24px\">\n",
              "    <path d=\"M0 0h24v24H0V0z\" fill=\"none\"/>\n",
              "    <path d=\"M18.56 5.44l.94 2.06.94-2.06 2.06-.94-2.06-.94-.94-2.06-.94 2.06-2.06.94zm-11 1L8.5 8.5l.94-2.06 2.06-.94-2.06-.94L8.5 2.5l-.94 2.06-2.06.94zm10 10l.94 2.06.94-2.06 2.06-.94-2.06-.94-.94-2.06-.94 2.06-2.06.94z\"/><path d=\"M17.41 7.96l-1.37-1.37c-.4-.4-.92-.59-1.43-.59-.52 0-1.04.2-1.43.59L10.3 9.45l-7.72 7.72c-.78.78-.78 2.05 0 2.83L4 21.41c.39.39.9.59 1.41.59.51 0 1.02-.2 1.41-.59l7.78-7.78 2.81-2.81c.8-.78.8-2.07 0-2.86zM5.41 20L4 18.59l7.72-7.72 1.47 1.35L5.41 20z\"/>\n",
              "  </svg>\n",
              "      </button>\n",
              "      \n",
              "  <style>\n",
              "    .colab-df-container {\n",
              "      display:flex;\n",
              "      flex-wrap:wrap;\n",
              "      gap: 12px;\n",
              "    }\n",
              "\n",
              "    .colab-df-convert {\n",
              "      background-color: #E8F0FE;\n",
              "      border: none;\n",
              "      border-radius: 50%;\n",
              "      cursor: pointer;\n",
              "      display: none;\n",
              "      fill: #1967D2;\n",
              "      height: 32px;\n",
              "      padding: 0 0 0 0;\n",
              "      width: 32px;\n",
              "    }\n",
              "\n",
              "    .colab-df-convert:hover {\n",
              "      background-color: #E2EBFA;\n",
              "      box-shadow: 0px 1px 2px rgba(60, 64, 67, 0.3), 0px 1px 3px 1px rgba(60, 64, 67, 0.15);\n",
              "      fill: #174EA6;\n",
              "    }\n",
              "\n",
              "    [theme=dark] .colab-df-convert {\n",
              "      background-color: #3B4455;\n",
              "      fill: #D2E3FC;\n",
              "    }\n",
              "\n",
              "    [theme=dark] .colab-df-convert:hover {\n",
              "      background-color: #434B5C;\n",
              "      box-shadow: 0px 1px 3px 1px rgba(0, 0, 0, 0.15);\n",
              "      filter: drop-shadow(0px 1px 2px rgba(0, 0, 0, 0.3));\n",
              "      fill: #FFFFFF;\n",
              "    }\n",
              "  </style>\n",
              "\n",
              "      <script>\n",
              "        const buttonEl =\n",
              "          document.querySelector('#df-a68a6473-09f1-4913-9a52-d1ba86dfd4d7 button.colab-df-convert');\n",
              "        buttonEl.style.display =\n",
              "          google.colab.kernel.accessAllowed ? 'block' : 'none';\n",
              "\n",
              "        async function convertToInteractive(key) {\n",
              "          const element = document.querySelector('#df-a68a6473-09f1-4913-9a52-d1ba86dfd4d7');\n",
              "          const dataTable =\n",
              "            await google.colab.kernel.invokeFunction('convertToInteractive',\n",
              "                                                     [key], {});\n",
              "          if (!dataTable) return;\n",
              "\n",
              "          const docLinkHtml = 'Like what you see? Visit the ' +\n",
              "            '<a target=\"_blank\" href=https://colab.research.google.com/notebooks/data_table.ipynb>data table notebook</a>'\n",
              "            + ' to learn more about interactive tables.';\n",
              "          element.innerHTML = '';\n",
              "          dataTable['output_type'] = 'display_data';\n",
              "          await google.colab.output.renderOutput(dataTable, element);\n",
              "          const docLink = document.createElement('div');\n",
              "          docLink.innerHTML = docLinkHtml;\n",
              "          element.appendChild(docLink);\n",
              "        }\n",
              "      </script>\n",
              "    </div>\n",
              "  </div>\n",
              "  "
            ]
          },
          "metadata": {},
          "execution_count": 1
        }
      ],
      "source": [
        "import pandas as pd\n",
        "\n",
        "# 데이터 경로\n",
        "\n",
        "labels = pd.read_csv('train.csv')\n",
        "submission = pd.read_csv('sample_submission.csv')\n",
        "labels.head()"
      ]
    },
    {
      "cell_type": "markdown",
      "source": [
        "**시드값 고정**"
      ],
      "metadata": {
        "id": "Q8_7AIvF4g3I"
      }
    },
    {
      "cell_type": "code",
      "source": [
        "# 시드값 고정 및 GPU 장비 설정\n",
        "import torch\n",
        "import random\n",
        "import numpy as np\n",
        "import os\n",
        "\n",
        "seed = 50\n",
        "random.seed(seed)\n",
        "torch.manual_seed(seed)\n",
        "device = torch.device('cuda' if torch.cuda.is_available() else 'cpu')\n",
        "torch.cuda.manual_seed(seed)"
      ],
      "metadata": {
        "id": "dNESJ1Lnor30"
      },
      "execution_count": 2,
      "outputs": []
    },
    {
      "cell_type": "code",
      "source": [
        "device"
      ],
      "metadata": {
        "colab": {
          "base_uri": "https://localhost:8080/"
        },
        "id": "XEPaze4vy-RN",
        "outputId": "c6277bf3-26d1-492f-93c0-845240a180cd"
      },
      "execution_count": 3,
      "outputs": [
        {
          "output_type": "execute_result",
          "data": {
            "text/plain": [
              "device(type='cuda')"
            ]
          },
          "metadata": {},
          "execution_count": 3
        }
      ]
    },
    {
      "cell_type": "markdown",
      "source": [
        "**데이터 준비**"
      ],
      "metadata": {
        "id": "gCiJX_iY4kHN"
      }
    },
    {
      "cell_type": "code",
      "source": [
        "# 데이터 준비\n",
        "from sklearn.model_selection import train_test_split\n",
        "\n",
        "train, valid = train_test_split(\n",
        "    labels,\n",
        "    test_size=0.1, # 검증 데이터의 비율\n",
        "    stratify=labels['has_cactus'],\n",
        "    random_state=50\n",
        ")\n",
        "print(len(train), len(valid))\n",
        "train.head()"
      ],
      "metadata": {
        "colab": {
          "base_uri": "https://localhost:8080/",
          "height": 224
        },
        "id": "fOviQE_VznmO",
        "outputId": "ba2d6c91-1825-4953-d806-4dac1dcbe392"
      },
      "execution_count": 4,
      "outputs": [
        {
          "output_type": "stream",
          "name": "stdout",
          "text": [
            "15750 1750\n"
          ]
        },
        {
          "output_type": "execute_result",
          "data": {
            "text/plain": [
              "                                         id  has_cactus\n",
              "10630  995e3ba502e55d8e469b0b4623893176.jpg           0\n",
              "8638   7bc5c0e2a681b1f173c70899534dca7a.jpg           1\n",
              "11167  a148ba511648e3975f0cf5e6b8bc5593.jpg           1\n",
              "2398   21650f4673340621f3d508f8dee60059.jpg           0\n",
              "17110  fa4411b08a8efff184ad4e71abbac8a5.jpg           1"
            ],
            "text/html": [
              "\n",
              "  <div id=\"df-ddfaa93c-b925-445b-ac5a-04bf0fd0ebd6\">\n",
              "    <div class=\"colab-df-container\">\n",
              "      <div>\n",
              "<style scoped>\n",
              "    .dataframe tbody tr th:only-of-type {\n",
              "        vertical-align: middle;\n",
              "    }\n",
              "\n",
              "    .dataframe tbody tr th {\n",
              "        vertical-align: top;\n",
              "    }\n",
              "\n",
              "    .dataframe thead th {\n",
              "        text-align: right;\n",
              "    }\n",
              "</style>\n",
              "<table border=\"1\" class=\"dataframe\">\n",
              "  <thead>\n",
              "    <tr style=\"text-align: right;\">\n",
              "      <th></th>\n",
              "      <th>id</th>\n",
              "      <th>has_cactus</th>\n",
              "    </tr>\n",
              "  </thead>\n",
              "  <tbody>\n",
              "    <tr>\n",
              "      <th>10630</th>\n",
              "      <td>995e3ba502e55d8e469b0b4623893176.jpg</td>\n",
              "      <td>0</td>\n",
              "    </tr>\n",
              "    <tr>\n",
              "      <th>8638</th>\n",
              "      <td>7bc5c0e2a681b1f173c70899534dca7a.jpg</td>\n",
              "      <td>1</td>\n",
              "    </tr>\n",
              "    <tr>\n",
              "      <th>11167</th>\n",
              "      <td>a148ba511648e3975f0cf5e6b8bc5593.jpg</td>\n",
              "      <td>1</td>\n",
              "    </tr>\n",
              "    <tr>\n",
              "      <th>2398</th>\n",
              "      <td>21650f4673340621f3d508f8dee60059.jpg</td>\n",
              "      <td>0</td>\n",
              "    </tr>\n",
              "    <tr>\n",
              "      <th>17110</th>\n",
              "      <td>fa4411b08a8efff184ad4e71abbac8a5.jpg</td>\n",
              "      <td>1</td>\n",
              "    </tr>\n",
              "  </tbody>\n",
              "</table>\n",
              "</div>\n",
              "      <button class=\"colab-df-convert\" onclick=\"convertToInteractive('df-ddfaa93c-b925-445b-ac5a-04bf0fd0ebd6')\"\n",
              "              title=\"Convert this dataframe to an interactive table.\"\n",
              "              style=\"display:none;\">\n",
              "        \n",
              "  <svg xmlns=\"http://www.w3.org/2000/svg\" height=\"24px\"viewBox=\"0 0 24 24\"\n",
              "       width=\"24px\">\n",
              "    <path d=\"M0 0h24v24H0V0z\" fill=\"none\"/>\n",
              "    <path d=\"M18.56 5.44l.94 2.06.94-2.06 2.06-.94-2.06-.94-.94-2.06-.94 2.06-2.06.94zm-11 1L8.5 8.5l.94-2.06 2.06-.94-2.06-.94L8.5 2.5l-.94 2.06-2.06.94zm10 10l.94 2.06.94-2.06 2.06-.94-2.06-.94-.94-2.06-.94 2.06-2.06.94z\"/><path d=\"M17.41 7.96l-1.37-1.37c-.4-.4-.92-.59-1.43-.59-.52 0-1.04.2-1.43.59L10.3 9.45l-7.72 7.72c-.78.78-.78 2.05 0 2.83L4 21.41c.39.39.9.59 1.41.59.51 0 1.02-.2 1.41-.59l7.78-7.78 2.81-2.81c.8-.78.8-2.07 0-2.86zM5.41 20L4 18.59l7.72-7.72 1.47 1.35L5.41 20z\"/>\n",
              "  </svg>\n",
              "      </button>\n",
              "      \n",
              "  <style>\n",
              "    .colab-df-container {\n",
              "      display:flex;\n",
              "      flex-wrap:wrap;\n",
              "      gap: 12px;\n",
              "    }\n",
              "\n",
              "    .colab-df-convert {\n",
              "      background-color: #E8F0FE;\n",
              "      border: none;\n",
              "      border-radius: 50%;\n",
              "      cursor: pointer;\n",
              "      display: none;\n",
              "      fill: #1967D2;\n",
              "      height: 32px;\n",
              "      padding: 0 0 0 0;\n",
              "      width: 32px;\n",
              "    }\n",
              "\n",
              "    .colab-df-convert:hover {\n",
              "      background-color: #E2EBFA;\n",
              "      box-shadow: 0px 1px 2px rgba(60, 64, 67, 0.3), 0px 1px 3px 1px rgba(60, 64, 67, 0.15);\n",
              "      fill: #174EA6;\n",
              "    }\n",
              "\n",
              "    [theme=dark] .colab-df-convert {\n",
              "      background-color: #3B4455;\n",
              "      fill: #D2E3FC;\n",
              "    }\n",
              "\n",
              "    [theme=dark] .colab-df-convert:hover {\n",
              "      background-color: #434B5C;\n",
              "      box-shadow: 0px 1px 3px 1px rgba(0, 0, 0, 0.15);\n",
              "      filter: drop-shadow(0px 1px 2px rgba(0, 0, 0, 0.3));\n",
              "      fill: #FFFFFF;\n",
              "    }\n",
              "  </style>\n",
              "\n",
              "      <script>\n",
              "        const buttonEl =\n",
              "          document.querySelector('#df-ddfaa93c-b925-445b-ac5a-04bf0fd0ebd6 button.colab-df-convert');\n",
              "        buttonEl.style.display =\n",
              "          google.colab.kernel.accessAllowed ? 'block' : 'none';\n",
              "\n",
              "        async function convertToInteractive(key) {\n",
              "          const element = document.querySelector('#df-ddfaa93c-b925-445b-ac5a-04bf0fd0ebd6');\n",
              "          const dataTable =\n",
              "            await google.colab.kernel.invokeFunction('convertToInteractive',\n",
              "                                                     [key], {});\n",
              "          if (!dataTable) return;\n",
              "\n",
              "          const docLinkHtml = 'Like what you see? Visit the ' +\n",
              "            '<a target=\"_blank\" href=https://colab.research.google.com/notebooks/data_table.ipynb>data table notebook</a>'\n",
              "            + ' to learn more about interactive tables.';\n",
              "          element.innerHTML = '';\n",
              "          dataTable['output_type'] = 'display_data';\n",
              "          await google.colab.output.renderOutput(dataTable, element);\n",
              "          const docLink = document.createElement('div');\n",
              "          docLink.innerHTML = docLinkHtml;\n",
              "          element.appendChild(docLink);\n",
              "        }\n",
              "      </script>\n",
              "    </div>\n",
              "  </div>\n",
              "  "
            ]
          },
          "metadata": {},
          "execution_count": 4
        }
      ]
    },
    {
      "cell_type": "code",
      "source": [
        "# 데이터셋 클래스 정의\n",
        "import cv2\n",
        "from torch.utils.data import Dataset\n",
        "\n",
        "class ImageDataset(Dataset):\n",
        "    # 인자 : dataframe, img path, transform\n",
        "    def __init__(self, df, img_dir='./', transform=None):\n",
        "        super().__init__() # 상속받은 Dataset의 생성자 호출\n",
        "        self.df = df\n",
        "        self.img_dir = img_dir\n",
        "        self.transform = transform\n",
        "        \n",
        "    def __len__(self):\n",
        "        return len(self.df)\n",
        "\n",
        "    def __getitem__(self, idx):\n",
        "        img_id = self.df.iloc[idx, 0] # 이미지 id\n",
        "        img_path = self.img_dir + img_id\n",
        "        image = cv2.imread(img_path) # 이미지 파일 읽기\n",
        "        image = cv2.cvtColor(image, cv2.COLOR_BGR2RGB) # 이미지 색상 보정\n",
        "        label = self.df.iloc[idx, 1]\n",
        "\n",
        "        if self.transform is not None:\n",
        "            image = self.transform(image)\n",
        "        return image, label"
      ],
      "metadata": {
        "id": "Ig3qY2eR0YJn"
      },
      "execution_count": 8,
      "outputs": []
    },
    {
      "cell_type": "code",
      "source": [
        "# 데이터셋 생성\n",
        "from torchvision import transforms\n",
        "transform = transforms.ToTensor()\n",
        "\n",
        "dataset_train = ImageDataset(df=train, img_dir='train/', transform=transform)\n",
        "dataset_valid = ImageDataset(df=valid, img_dir='train/', transform=transform)"
      ],
      "metadata": {
        "id": "dmHNJKO60axB"
      },
      "execution_count": 9,
      "outputs": []
    },
    {
      "cell_type": "code",
      "source": [
        "# 데이터 로더 생성\n",
        "from torch.utils.data import DataLoader\n",
        "loader_train = DataLoader(dataset=dataset_train, batch_size=32, shuffle=True)\n",
        "loader_valid = DataLoader(dataset=dataset_valid, batch_size=32, shuffle=True)"
      ],
      "metadata": {
        "id": "Aa0jd9hT3KzO"
      },
      "execution_count": 10,
      "outputs": []
    },
    {
      "cell_type": "markdown",
      "source": [
        "**모델 생성**"
      ],
      "metadata": {
        "id": "kvgYpwH-4l5x"
      }
    },
    {
      "cell_type": "code",
      "source": [
        "import torch.nn as nn\n",
        "import torch.nn.functional as F"
      ],
      "metadata": {
        "id": "rHcKXAkS3c2n"
      },
      "execution_count": 12,
      "outputs": []
    },
    {
      "cell_type": "code",
      "source": [
        "class Model(nn.Module):\n",
        "    def __init__(self):\n",
        "        super().__init__() # 상속받은 nn.Module의 생성자 호출\n",
        "        self.conv1 = nn.Conv2d(in_channels=3, out_channels=32, kernel_size=3, padding=2)\n",
        "        self.conv2 = nn.Conv2d(in_channels=32, out_channels=64, kernel_size=3, padding=2)\n",
        "        self.max_pool = nn.MaxPool2d(kernel_size=2)\n",
        "        self.avg_pool = nn.AvgPool2d(kernel_size=2)\n",
        "        self.fc = nn.Linear(in_features=64*4*4, out_features=2)\n",
        "\n",
        "    def forward(self, x):\n",
        "        # 초기 : (32, 3, 32, 32)\n",
        "        x = self.max_pool(F.relu(self.conv1(x)))\n",
        "        # 첫 합성곱 연산 : (32, 32, 34, 34)\n",
        "        # 첫 최대 풀링 : (32, 32, 17, 17)\n",
        "        x = self.max_pool(F.relu(self.conv2(x)))\n",
        "        # 두 번째 합성곱 : (32, 64, 19, 19)\n",
        "        # 두 번째 최대 풀링 : (32, 64, 9, 9)\n",
        "        x = self.avg_pool(x)\n",
        "        # 평균 풀링 : (32, 64, 4, 4)\n",
        "        x = x.view(-1, 64*4*4) \n",
        "        # 평탄화 : (32, 1024)\n",
        "        x = self.fc(x)\n",
        "        # fc : (32, 2)\n",
        "        return x"
      ],
      "metadata": {
        "id": "0ZjTvxfV4pVc"
      },
      "execution_count": 17,
      "outputs": []
    },
    {
      "cell_type": "code",
      "source": [
        "model = Model().to(device)"
      ],
      "metadata": {
        "id": "hUbdL7Ix6d3y"
      },
      "execution_count": 18,
      "outputs": []
    },
    {
      "cell_type": "markdown",
      "source": [
        "**모델 훈련**"
      ],
      "metadata": {
        "id": "G38-1xOg6mqb"
      }
    },
    {
      "cell_type": "code",
      "source": [
        "criterion = nn.CrossEntropyLoss()\n",
        "optimizer = torch.optim.SGD(model.parameters(), lr=0.01)"
      ],
      "metadata": {
        "id": "GRj5WB9A6giW"
      },
      "execution_count": 19,
      "outputs": []
    },
    {
      "cell_type": "code",
      "source": [
        "epochs = 10\n",
        "\n",
        "for epoch in range(epochs):\n",
        "    epoch_loss = 0\n",
        "\n",
        "    for images, labels in loader_train:\n",
        "        images = images.to(device)\n",
        "        labels = labels.to(device)\n",
        "\n",
        "        optimizer.zero_grad()\n",
        "        outputs = model(images)\n",
        "        loss = criterion(outputs, labels)\n",
        "        epoch_loss += loss.item() # 역전파 수행\n",
        "        loss.backward()\n",
        "        optimizer.step()\n",
        "    \n",
        "    print(f'에폭 :[{epoch+1}/{epochs}] - 손실값: {epoch_loss/len(loader_train):.4f}')"
      ],
      "metadata": {
        "colab": {
          "base_uri": "https://localhost:8080/"
        },
        "id": "K__yaEHy7A53",
        "outputId": "4cc80aae-8faf-4451-fd22-d27a563e3930"
      },
      "execution_count": 20,
      "outputs": [
        {
          "output_type": "stream",
          "name": "stdout",
          "text": [
            "에폭 :[1/10] - 손실값: 0.5271\n",
            "에폭 :[2/10] - 손실값: 0.3634\n",
            "에폭 :[3/10] - 손실값: 0.2510\n",
            "에폭 :[4/10] - 손실값: 0.1949\n",
            "에폭 :[5/10] - 손실값: 0.1747\n",
            "에폭 :[6/10] - 손실값: 0.1584\n",
            "에폭 :[7/10] - 손실값: 0.1463\n",
            "에폭 :[8/10] - 손실값: 0.1422\n",
            "에폭 :[9/10] - 손실값: 0.1306\n",
            "에폭 :[10/10] - 손실값: 0.1269\n"
          ]
        }
      ]
    },
    {
      "cell_type": "markdown",
      "source": [
        "**성능 검증**"
      ],
      "metadata": {
        "id": "RZwO57u-8pFC"
      }
    },
    {
      "cell_type": "code",
      "source": [
        "from sklearn.metrics import roc_auc_score\n",
        "true_list = []\n",
        "preds_list = []"
      ],
      "metadata": {
        "id": "Y1fN3LDp8OK4"
      },
      "execution_count": 22,
      "outputs": []
    },
    {
      "cell_type": "code",
      "source": [
        "# 모델 평가 상태\n",
        "model.eval()\n",
        "\n",
        "with torch.no_grad():\n",
        "    for images, labels in loader_valid:\n",
        "        images = images.to(device)\n",
        "        labels = labels.to(device)\n",
        "\n",
        "        outputs = model(images)\n",
        "        preds = torch.softmax(outputs.cpu(), dim=1)[:, 1] # 예측 확률\n",
        "        true = labels.cpu()\n",
        "        preds_list.extend(preds)\n",
        "        true_list.extend(true)\n",
        "\n",
        "print(f'검증 데이터 ROC AUC : {roc_auc_score(true_list, preds_list):.4f}')"
      ],
      "metadata": {
        "colab": {
          "base_uri": "https://localhost:8080/"
        },
        "id": "rfusQett8rHK",
        "outputId": "fcbd993b-c8de-4944-ea4a-e14afc5e3399"
      },
      "execution_count": 30,
      "outputs": [
        {
          "output_type": "stream",
          "name": "stdout",
          "text": [
            "검증 데이터 ROC AUC : 0.9896\n"
          ]
        }
      ]
    },
    {
      "cell_type": "markdown",
      "source": [
        "**예측 및 결과 제출**"
      ],
      "metadata": {
        "id": "73mLI5DA9zmR"
      }
    },
    {
      "cell_type": "code",
      "source": [
        "dataset_test = ImageDataset(df=submission, img_dir='test/', transform=transform)\n",
        "loader_test = DataLoader(dataset=dataset_test, batch_size=32, shuffle=False)"
      ],
      "metadata": {
        "id": "0iiCJFRE9iaH"
      },
      "execution_count": 25,
      "outputs": []
    },
    {
      "cell_type": "code",
      "source": [
        "model.eval()\n",
        "\n",
        "preds = []\n",
        "\n",
        "with torch.no_grad():\n",
        "    for images, _ in loader_test:\n",
        "        images = images.to(device)\n",
        "        outputs = model(images)\n",
        "        preds_part = torch.softmax(outputs.cpu(), dim=1)[:, 1].tolist()\n",
        "        preds.extend(preds_part)"
      ],
      "metadata": {
        "id": "WgtMZMZN-Cxn"
      },
      "execution_count": 32,
      "outputs": []
    },
    {
      "cell_type": "code",
      "source": [
        "submission['has_cactus'] = preds\n",
        "submission.to_csv('submission.csv', index=False)"
      ],
      "metadata": {
        "id": "Hl8uMK73-Voo"
      },
      "execution_count": 33,
      "outputs": []
    },
    {
      "cell_type": "markdown",
      "source": [
        "**성능 개선**"
      ],
      "metadata": {
        "id": "CiY3VV5I_ooU"
      }
    },
    {
      "cell_type": "code",
      "source": [
        "# 데이터 준비 - 다양한 이미지 변환 수행\n",
        "from torchvision import transforms\n",
        "\n",
        "transform_train = transforms.Compose([\n",
        "    transforms.ToTensor(),\n",
        "    # 이미지 주변에 패딩 추가, symmetric : 패딩 추가시 원본 데이터를 상하 좌우 대칭이 되는 모양으로 만듦\n",
        "    transforms.Pad(32, padding_mode='symmetric'), \n",
        "    # 이미지를 무작위로 좌우 대칭 변환\n",
        "    transforms.RandomHorizontalFlip(), \n",
        "    # 이미지를 무작위로 상하 대칭 변환\n",
        "    transforms.RandomVerticalFlip(),\n",
        "    # 이미지를 무작위로 회전\n",
        "    transforms.RandomRotation(10),\n",
        "    # 텐서 형태의 이미지 데이터를 정규화 : RGB 3개의 값의 평균이 앞의 3개, 분산이 뒤의 3개\n",
        "    transforms.Normalize((0.485, 0.456, 0.406), (0.229, 0.224, 0.225)),\n",
        "])\n",
        "\n",
        "transform_test = transforms.Compose([\n",
        "    transforms.ToTensor(),\n",
        "    transforms.Pad(32, padding_mode='symmetric'),\n",
        "    transforms.Normalize((0.485, 0.456, 0.406), (0.229, 0.224, 0.225))\n",
        "])"
      ],
      "metadata": {
        "id": "fJseRfyH_Yu0"
      },
      "execution_count": 35,
      "outputs": []
    },
    {
      "cell_type": "code",
      "source": [
        "dataset_train = ImageDataset(df=train, img_dir='train/', transform = transform_train)\n",
        "dataset_test = ImageDataset(df=valid, img_dir='train/', transform = transform_test)"
      ],
      "metadata": {
        "id": "O_7q4PIPETfA"
      },
      "execution_count": 36,
      "outputs": []
    },
    {
      "cell_type": "code",
      "source": [
        "loader_train = DataLoader(dataset=dataset_train, batch_size=32, shuffle=True)\n",
        "loader_valid = DataLoader(dataset=dataset_valid, batch_size=32, shuffle=False)"
      ],
      "metadata": {
        "id": "pJVIsZFFE3Jr"
      },
      "execution_count": 37,
      "outputs": []
    },
    {
      "cell_type": "code",
      "source": [
        "class Model_2(nn.Module):\n",
        "    def __init__(self):\n",
        "        super().__init__()\n",
        "        self.layer1 = nn.Sequential(\n",
        "            nn.Conv2d(in_channels=3, out_channels=32, kernel_size=3, padding=2),\n",
        "            nn.BatchNorm2d(32),\n",
        "            nn.LeakyReLU(),\n",
        "            nn.MaxPool2d(kernel_size=2)\n",
        "        )\n",
        "        self.layer2 = nn.Sequential(\n",
        "            nn.Conv2d(in_channels=32, out_channels=64, kernel_size=3, padding=2),\n",
        "            nn.BatchNorm2d(64),\n",
        "            nn.LeakyReLU(),\n",
        "            nn.MaxPool2d(kernel_size=2)\n",
        "        )\n",
        "        self.layer3 = nn.Sequential(\n",
        "            nn.Conv2d(in_channels=64, out_channels=128, kernel_size=3, padding=2),\n",
        "            nn.BatchNorm2d(128),\n",
        "            nn.LeakyReLU(),\n",
        "            nn.MaxPool2d(kernel_size=2)\n",
        "        )\n",
        "        self.layer4 = nn.Sequential(\n",
        "            nn.Conv2d(in_channels=128, out_channels=256, kernel_size=3, padding=2),\n",
        "            nn.BatchNorm2d(256),\n",
        "            nn.LeakyReLU(),\n",
        "            nn.MaxPool2d(kernel_size=2)\n",
        "        )\n",
        "        self.layer5 = nn.Sequential(\n",
        "            nn.Conv2d(in_channels=256, out_channels=512, kernel_size=3, padding=2),\n",
        "            nn.BatchNorm2d(512),\n",
        "            nn.LeakyReLU(),\n",
        "            nn.MaxPool2d(kernel_size=2)\n",
        "        )\n",
        "        self.avg_pool = nn.AvgPool2d(kernel_size=4)\n",
        "        self.fc1 = nn.Linear(in_features=512*1*1, out_features=64)\n",
        "        self.fc2 = nn.Linear(in_features=64, out_features=2)\n",
        "\n",
        "    def forward(self, x):\n",
        "        x = self.layer1(x)\n",
        "        x = self.layer2(x)\n",
        "        x = self.layer3(x)\n",
        "        x = self.layer4(x)\n",
        "        x = self.layer5(x)\n",
        "        x = self.avg_pool(x)\n",
        "        x = x.view(-1, 512*1*1)\n",
        "        x = self.fc1(x)\n",
        "        x = self.fc2(x)\n",
        "        return x"
      ],
      "metadata": {
        "id": "BazXBmrSFA6-"
      },
      "execution_count": 62,
      "outputs": []
    },
    {
      "cell_type": "code",
      "source": [
        "model = Model_2().to(device)"
      ],
      "metadata": {
        "id": "arHzDfyIG0JC"
      },
      "execution_count": 63,
      "outputs": []
    },
    {
      "cell_type": "code",
      "source": [
        "criterion = nn.CrossEntropyLoss()\n",
        "optimizer = torch.optim.Adamax(model.parameters(), lr=0.00006)"
      ],
      "metadata": {
        "id": "CSzGR8yWG22x"
      },
      "execution_count": 64,
      "outputs": []
    },
    {
      "cell_type": "code",
      "source": [
        "epochs = 70\n",
        "\n",
        "for epoch in range(epochs):\n",
        "    epoch_loss = 0\n",
        "\n",
        "    for images, labels in loader_train:\n",
        "        images = images.to(device)\n",
        "        labels = labels.to(device)\n",
        "\n",
        "        optimizer.zero_grad()\n",
        "        outputs = model(images)\n",
        "        loss = criterion(outputs, labels)\n",
        "        epoch_loss += loss.item() # 역전파 수행\n",
        "        loss.backward()\n",
        "        optimizer.step()\n",
        "    \n",
        "    print(f'에폭 :[{epoch+1}/{epochs}] - 손실값: {epoch_loss/len(loader_train):.4f}')"
      ],
      "metadata": {
        "colab": {
          "base_uri": "https://localhost:8080/"
        },
        "id": "b3_hImggHERn",
        "outputId": "e36ee200-21e7-4be4-83e7-c75dceb50163"
      },
      "execution_count": null,
      "outputs": [
        {
          "output_type": "stream",
          "name": "stdout",
          "text": [
            "에폭 :[1/70] - 손실값: 0.1233\n",
            "에폭 :[2/70] - 손실값: 0.0641\n",
            "에폭 :[3/70] - 손실값: 0.0515\n",
            "에폭 :[4/70] - 손실값: 0.0422\n",
            "에폭 :[5/70] - 손실값: 0.0375\n",
            "에폭 :[6/70] - 손실값: 0.0325\n",
            "에폭 :[7/70] - 손실값: 0.0286\n"
          ]
        }
      ]
    }
  ]
}
